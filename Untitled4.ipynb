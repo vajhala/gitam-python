{
 "cells": [
  {
   "cell_type": "code",
   "execution_count": 3,
   "metadata": {},
   "outputs": [
    {
     "name": "stdout",
     "output_type": "stream",
     "text": [
      "90\n"
     ]
    }
   ],
   "source": [
    "def  printeven(n):\n",
    "    cnt=0;\n",
    "    sum=0;\n",
    "    while(cnt!=n):\n",
    "        if(cnt%2==0):\n",
    "            sum=sum+cnt;\n",
    "        cnt=cnt+1;\n",
    "    return sum;     \n",
    "print(printeven(20));\n",
    "        "
   ]
  },
  {
   "cell_type": "code",
   "execution_count": 6,
   "metadata": {},
   "outputs": [
    {
     "name": "stdout",
     "output_type": "stream",
     "text": [
      "1\n",
      "2\n",
      "4\n",
      "8\n",
      "47\n",
      "94\n",
      "188\n"
     ]
    }
   ],
   "source": [
    "def factors(n):\n",
    "    i=1;\n",
    "    while(i!=n):\n",
    "        if(n%i==0):\n",
    "            print(i);\n",
    "        i=i+1;\n",
    "    return;\n",
    "factors(376);\n"
   ]
  },
  {
   "cell_type": "code",
   "execution_count": 11,
   "metadata": {},
   "outputs": [
    {
     "name": "stdout",
     "output_type": "stream",
     "text": [
      "[1, 2, 3, 4, 5]\n",
      "1\n"
     ]
    }
   ],
   "source": [
    "list1=[1,2,3,4,5];\n",
    "print(list1);\n",
    "print(list1[0])"
   ]
  },
  {
   "cell_type": "code",
   "execution_count": 13,
   "metadata": {},
   "outputs": [
    {
     "name": "stdout",
     "output_type": "stream",
     "text": [
      "surya nikhil rakesh "
     ]
    }
   ],
   "source": [
    "list2=[\"surya\",\"nikhil\",\"rakesh\"];\n",
    "for x in (list2):\n",
    " print(x,end=\" \")    "
   ]
  },
  {
   "cell_type": "code",
   "execution_count": 19,
   "metadata": {},
   "outputs": [
    {
     "name": "stdout",
     "output_type": "stream",
     "text": [
      "surya nikhil rakesh 1 2 3 4 5 6 \n",
      "rakesh\n",
      "['nikhil', 'rakesh', 1, 2, 3, 4, 5]\n",
      "['surya', 'nikhil', 'rakesh', 1, 2]\n",
      "['surya', 'nikhil', 'rakesh', 1, 2, 3, 4, 5, 6]\n"
     ]
    }
   ],
   "source": [
    "list2=[\"surya\",\"nikhil\",\"rakesh\",1,2,3,4,5,6];\n",
    "for x in (list2):\n",
    " print(x,end=\" \") \n",
    "\n",
    "\n",
    "print();\n",
    "print(list2[2])\n",
    "print(list2[1:8])\n",
    "print(list2[:5])\n",
    "print(list2[:9])"
   ]
  },
  {
   "cell_type": "code",
   "execution_count": 47,
   "metadata": {},
   "outputs": [
    {
     "name": "stdout",
     "output_type": "stream",
     "text": [
      "1 2 3 4 5 6 7 8 9 10 \n",
      "[3, 4, 5, 6, 7, 8]\n",
      "[4, 5, 6, 7]\n",
      "[]\n",
      "[1, 3, 5, 7, 9]\n",
      "[1, 5, 9]\n",
      "[10, 7, 4, 1]\n"
     ]
    }
   ],
   "source": [
    "list1=[1,2,3,4,5,6,7,8,9,10];\n",
    "for x in list1:\n",
    "     print(x,end=\" \")\n",
    "print();\n",
    "print(list1[2:-2])\n",
    "print(list1[3:-3]);\n",
    "print(list1[10:-10])\n",
    "print(list1[::2])\n",
    "print(list1[::4])\n",
    "print(list1[::-3])"
   ]
  },
  {
   "cell_type": "code",
   "execution_count": 38,
   "metadata": {},
   "outputs": [
    {
     "name": "stdout",
     "output_type": "stream",
     "text": [
      "['surya', 'nikhil', 'rakesh']\n",
      "['surya', 'nikki', 'rakesh']\n",
      "['nikki', 'rakesh']\n",
      "[1, 2, 3, 4, 5, 6, 7, 8, 9]\n",
      "['nikki', 'rakesh', 1, 2, 3, 4, 5, 6, 7, 8, 9]\n",
      "9\n",
      "['nikki', 'rakesh', 135781141]\n",
      "12\n"
     ]
    }
   ],
   "source": [
    "list2=[\"surya\",\"nikhil\",\"rakesh\"];\n",
    "print(list2)\n",
    "\n",
    "list2[1]=\"nikki\";\n",
    "print(list2)\n",
    "del  list2[0]\n",
    "print(list2)\n",
    "list3=[1,2,3,4,5,6,7,8,9];\n",
    "print(list3);\n",
    "print(list2+list3);\n",
    "print(len(list3))\n",
    "list2.append(135781141);\n",
    "print(list2)\n",
    "print(len(list2+list3))"
   ]
  },
  {
   "cell_type": "code",
   "execution_count": 106,
   "metadata": {},
   "outputs": [
    {
     "name": "stdout",
     "output_type": "stream",
     "text": [
      "['gitam', 'gitam', 'Python', 1, 2, 3, 4, 5, 6]\n",
      "['gitam', 'gitam', 'Python', 1, 2, 135781141, 3, 4, 5, 6]\n",
      "['gitam', 'gitam', 'Python', 1, 2, 3, 4, 5, 6]\n",
      "['gitam', 'gitam', 1, 2, 3, 4, 5, 6]\n",
      "[6, 5, 4, 3, 2, 1, 'gitam', 'gitam']\n",
      "gitam\n",
      "matig\n"
     ]
    }
   ],
   "source": [
    "list1=[\"gitam\",\"gitam\",\"Python\",1,2,3,4,5,6]\n",
    "print(list1)\n",
    "list1.index(\"gitam\")\n",
    "list1.index(1)\n",
    "list1.insert(5,135781141)\n",
    "print(list1)\n",
    "list1.pop(5)\n",
    "print(list1)\n",
    "list1.remove(\"Python\")\n",
    "print(list1)\n",
    "list1.reverse()\n",
    "print(list1)\n",
    "x=list1[6]\n",
    "print(x)\n",
    "print  (x[::-1])\n",
    "\n"
   ]
  },
  {
   "cell_type": "code",
   "execution_count": null,
   "metadata": {},
   "outputs": [],
   "source": []
  }
 ],
 "metadata": {
  "kernelspec": {
   "display_name": "Python 3",
   "language": "python",
   "name": "python3"
  },
  "language_info": {
   "codemirror_mode": {
    "name": "ipython",
    "version": 3
   },
   "file_extension": ".py",
   "mimetype": "text/x-python",
   "name": "python",
   "nbconvert_exporter": "python",
   "pygments_lexer": "ipython3",
   "version": "3.7.3"
  }
 },
 "nbformat": 4,
 "nbformat_minor": 2
}
