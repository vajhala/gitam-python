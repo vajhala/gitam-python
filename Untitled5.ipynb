{
 "cells": [
  {
   "cell_type": "code",
   "execution_count": 7,
   "metadata": {},
   "outputs": [
    {
     "name": "stdout",
     "output_type": "stream",
     "text": [
      "3 6 9 "
     ]
    }
   ],
   "source": [
    "def linearexample(a,key):\n",
    "    for i in range(len(a)):\n",
    "        if a[i]==key:\n",
    "            print(i,end=\" \")\n",
    "a=[1,2,3,4,5,6,4,7,8,4]\n",
    "linearexample(a,4)"
   ]
  },
  {
   "cell_type": "code",
   "execution_count": 8,
   "metadata": {},
   "outputs": [
    {
     "name": "stdout",
     "output_type": "stream",
     "text": [
      "! ! !  ! ! ! ! ! !  ! ! ! ! ! ! ! ! !  "
     ]
    }
   ],
   "source": [
    "def linearexample(a,key):\n",
    "    for i in range(len(a)):\n",
    "        if a[i]==key:\n",
    "            \n",
    "            j=0\n",
    "            while(j!=i):\n",
    "                print(\"!\",end=\" \")\n",
    "                j=j+1\n",
    "            print(end=\" \")\n",
    "a=[1,2,3,4,5,6,4,7,8,4]\n",
    "linearexample(a,4)"
   ]
  },
  {
   "cell_type": "code",
   "execution_count": 11,
   "metadata": {},
   "outputs": [
    {
     "name": "stdout",
     "output_type": "stream",
     "text": [
      "60\n"
     ]
    }
   ],
   "source": [
    "def linear1(a):\n",
    "    sum=0;\n",
    "    for i in range(len(a)):\n",
    "        if(a[i]%3==0 and a[i]%5==0):\n",
    "            sum=sum+a[i]\n",
    "    print(sum)\n",
    "a=[15,12,2,9,18,36,45]\n",
    "linear1(a)"
   ]
  },
  {
   "cell_type": "code",
   "execution_count": 25,
   "metadata": {},
   "outputs": [
    {
     "name": "stdout",
     "output_type": "stream",
     "text": [
      "1 3 8 15 5 5\n"
     ]
    }
   ],
   "source": [
    "def linear2(a):\n",
    "    for i in range(len(a)):\n",
    "        if i==0 or i==(len(a)-1):\n",
    "            print(a[i],end=\" \")\n",
    "        else:\n",
    "             print(a[i-1]*a[i+1],end=\" \")\n",
    "    print(a[i])\n",
    "a=[1,2,3,4,5]\n",
    "linear2(a)\n",
    "    "
   ]
  },
  {
   "cell_type": "code",
   "execution_count": 27,
   "metadata": {},
   "outputs": [
    {
     "name": "stdout",
     "output_type": "stream",
     "text": [
      "1  9   19 22 "
     ]
    }
   ],
   "source": [
    "def linear3(a):\n",
    "    for i in range(len(a)):\n",
    "        if i==0 or i==(len(a)-1):\n",
    "            print(a[i],end=\" \")\n",
    "        elif(a[i-1]%2==0 and a[i+1]%2==0):\n",
    "            print(a[i],end=\" \")\n",
    "        else:print(end=\" \")\n",
    "            \n",
    "a=[1,6,9,4,16,19,22]    \n",
    "linear3(a)"
   ]
  },
  {
   "cell_type": "code",
   "execution_count": 29,
   "metadata": {},
   "outputs": [
    {
     "name": "stdout",
     "output_type": "stream",
     "text": [
      "ENTER A NUMBER12345678899\n",
      "[1, 2, 3, 4, 5, 6, 7, 8, 8, 9, 9]\n"
     ]
    }
   ],
   "source": [
    "def conversion(n):\n",
    "    list=[];\n",
    "    while n!=0:\n",
    "        r=n%10;\n",
    "        list.append(r)\n",
    "        n=n//10\n",
    "    list.reverse()\n",
    "    return(list)\n",
    "    \n",
    "n=int(input(\"ENTER A NUMBER\"))\n",
    "print(conversion(n))\n",
    "    "
   ]
  },
  {
   "cell_type": "code",
   "execution_count": 30,
   "metadata": {},
   "outputs": [
    {
     "ename": "SyntaxError",
     "evalue": "invalid syntax (<ipython-input-30-3656e64a3236>, line 1)",
     "output_type": "error",
     "traceback": [
      "\u001b[1;36m  File \u001b[1;32m\"<ipython-input-30-3656e64a3236>\"\u001b[1;36m, line \u001b[1;32m1\u001b[0m\n\u001b[1;33m    def linear4(a);\u001b[0m\n\u001b[1;37m                  ^\u001b[0m\n\u001b[1;31mSyntaxError\u001b[0m\u001b[1;31m:\u001b[0m invalid syntax\n"
     ]
    }
   ],
   "source": [
    "def linear4(a);\n",
    "    sum=0\n",
    "    for i in range(len(a)):\n",
    "        while n!=0;\n",
    "        sum=sum*10+a[i];\n",
    "a=[1,4,16,56,22,24,13]\n",
    "linear4(a)\n"
   ]
  },
  {
   "cell_type": "code",
   "execution_count": 38,
   "metadata": {},
   "outputs": [
    {
     "name": "stdout",
     "output_type": "stream",
     "text": [
      "232\n"
     ]
    }
   ],
   "source": [
    "\n",
    "def linear8(a):\n",
    "    sum=0;\n",
    "    i=0;\n",
    "    for i in range(len(a)):\n",
    "        sum=sum+a[i];\n",
    "        i=i+1\n",
    "    print(sum)\n",
    "a=[1,23,16,192]    \n",
    "linear8(a)"
   ]
  },
  {
   "cell_type": "code",
   "execution_count": 41,
   "metadata": {},
   "outputs": [
    {
     "data": {
      "text/plain": [
       "45"
      ]
     },
     "execution_count": 41,
     "metadata": {},
     "output_type": "execute_result"
    }
   ],
   "source": [
    "a=[1,2,3,4,5,6,7,8,9]\n",
    "sum(a)"
   ]
  },
  {
   "cell_type": "code",
   "execution_count": 43,
   "metadata": {},
   "outputs": [
    {
     "name": "stdout",
     "output_type": "stream",
     "text": [
      "1\n",
      "36\n",
      "9\n",
      "16\n",
      "256\n",
      "19\n",
      "484\n"
     ]
    }
   ],
   "source": [
    "def linear9(a):\n",
    "    for i in range(len(a)):\n",
    "        if(a[i]%2==0):\n",
    "            print(a[i]**2)\n",
    "        else:\n",
    "            print(a[i])\n",
    "a=[1,6,9,4,16,19,22]    \n",
    "linear9(a)"
   ]
  },
  {
   "cell_type": "code",
   "execution_count": 44,
   "metadata": {},
   "outputs": [
    {
     "name": "stdout",
     "output_type": "stream",
     "text": [
      "15 34\n",
      "31\n",
      "28\n",
      "4 "
     ]
    }
   ],
   "source": [
    "def linear11(a):\n",
    "    for i in range(len(a)):\n",
    "        if i==0 or i==(len(a)-1):\n",
    "            print(a[i],end=\" \")\n",
    "        else:\n",
    "            print(a[i-1]+a[i]);\n",
    "a=[15,19,12,16,4]    \n",
    "linear11(a)"
   ]
  }
 ],
 "metadata": {
  "kernelspec": {
   "display_name": "Python 3",
   "language": "python",
   "name": "python3"
  },
  "language_info": {
   "codemirror_mode": {
    "name": "ipython",
    "version": 3
   },
   "file_extension": ".py",
   "mimetype": "text/x-python",
   "name": "python",
   "nbconvert_exporter": "python",
   "pygments_lexer": "ipython3",
   "version": "3.7.3"
  }
 },
 "nbformat": 4,
 "nbformat_minor": 2
}
