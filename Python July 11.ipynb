{
 "cells": [
  {
   "cell_type": "markdown",
   "metadata": {},
   "source": [
    "### Standard Libraries\n",
    "\n",
    "- File I/O\n",
    "\n",
    "- Regular expressions\n",
    "\n",
    "- Datetime\n",
    "\n",
    "- Math(numerical and mathematical)"
   ]
  },
  {
   "cell_type": "code",
   "execution_count": null,
   "metadata": {},
   "outputs": [],
   "source": []
  },
  {
   "cell_type": "code",
   "execution_count": 2,
   "metadata": {},
   "outputs": [],
   "source": [
    "# Write, Read, Analysis -- Data Science and Analysis\n"
   ]
  },
  {
   "cell_type": "markdown",
   "metadata": {},
   "source": [
    "### File Handling in Python\n",
    "\n",
    "- File- Document containing information resides on the permanent storage\n",
    "\n",
    "- Different types of files- txt, doc, pdf, csv, and etc...\n",
    "\n",
    "- Input -- Keyboard\n",
    "\n",
    "- Output -- File\n",
    "\n",
    "### Modes of the File I/O\n",
    "\n",
    "- 'W' -- This mode is used to file writing\n",
    "\n",
    "   -- If the file is not present first it creates the file and write so me data to it\n",
    "   \n",
    "   -- If the file is already present then it will rewrite the previous content"
   ]
  },
  {
   "cell_type": "code",
   "execution_count": 16,
   "metadata": {},
   "outputs": [
    {
     "name": "stdout",
     "output_type": "stream",
     "text": [
      "File is created and data has written\n"
     ]
    }
   ],
   "source": [
    "# Function to create a file and write to the file\n",
    "\n",
    "def createfile(filename):\n",
    "    f=open(filename,'w')\n",
    "    for i in range(10):\n",
    "        f.write('This is %d Line '  % i)\n",
    "    print(\"File is created and data has written\")\n",
    "    return\n",
    "createfile('file1.txt')"
   ]
  },
  {
   "cell_type": "code",
   "execution_count": 21,
   "metadata": {},
   "outputs": [
    {
     "name": "stdout",
     "output_type": "stream",
     "text": [
      " Volume in drive C has no label.\n",
      " Volume Serial Number is F0CE-A24A\n",
      "\n",
      " Directory of C:\\Users\\STUDENT\n",
      "\n",
      "11-07-2019  10:04    <DIR>          .\n",
      "11-07-2019  10:04    <DIR>          ..\n",
      "21-06-2019  14:49    <DIR>          .anaconda\n",
      "19-06-2019  15:53               295 .bash_history\n",
      "08-07-2019  11:11    <DIR>          .conda\n",
      "08-07-2019  09:20                43 .condarc\n",
      "29-06-2019  10:53    <DIR>          .idlerc\n",
      "11-07-2019  09:17    <DIR>          .ipynb_checkpoints\n",
      "21-06-2019  15:24    <DIR>          .ipython\n",
      "21-06-2019  15:32    <DIR>          .jupyter\n",
      "28-06-2019  15:56    <DIR>          .matplotlib\n",
      "21-06-2019  15:33    <DIR>          221810304024\n",
      "21-06-2019  14:46    <DIR>          Anaconda3\n",
      "21-06-2019  16:42    <DIR>          Contacts\n",
      "01-07-2019  12:37                37 day 1.txt\n",
      "08-07-2019  12:36    <DIR>          Desktop\n",
      "10-07-2019  16:38    <DIR>          Documents\n",
      "08-07-2019  16:53    <DIR>          Downloads\n",
      "21-06-2019  16:42    <DIR>          Favorites\n",
      "11-07-2019  10:04                12 file1.txt\n",
      "27-06-2019  17:04                 0 file2.txt\n",
      "21-06-2019  16:42    <DIR>          Links\n",
      "21-06-2019  16:42    <DIR>          Music\n",
      "21-06-2019  16:42    <DIR>          Pictures\n",
      "10-07-2019  16:40            23,219 Python July 10.ipynb\n",
      "10-07-2019  10:56             9,264 Python July 10-Copy1.ipynb\n",
      "10-07-2019  13:03            17,764 Python July 10-Copy2.ipynb\n",
      "10-07-2019  13:11            19,108 Python July 10-Copy3.ipynb\n",
      "10-07-2019  16:52            24,168 Python July 10-Copy4.ipynb\n",
      "10-07-2019  16:52            24,168 Python July 10-Copy5.ipynb\n",
      "11-07-2019  10:04             7,808 Python July 11.ipynb\n",
      "08-07-2019  16:28            11,900 python July 8.ipynb\n",
      "08-07-2019  10:05             2,309 python July 8-Copy1.ipynb\n",
      "08-07-2019  10:39             3,267 python July 8-Copy2.ipynb\n",
      "08-07-2019  11:19             5,024 python July 8-Copy3.ipynb\n",
      "08-07-2019  13:03             6,669 python July 8-Copy4.ipynb\n",
      "08-07-2019  13:13             6,669 python July 8-Copy5.ipynb\n",
      "08-07-2019  14:53             9,328 python July 8-Copy6.ipynb\n",
      "08-07-2019  16:28            11,900 python July 8-Copy7.ipynb\n",
      "09-07-2019  16:39            14,119 python July 9.ipynb\n",
      "09-07-2019  11:15             6,617 python July 9-Copy1.ipynb\n",
      "09-07-2019  16:06            14,119 python July 9-Copy2.ipynb\n",
      "09-07-2019  16:39            14,119 python July 9-Copy3.ipynb\n",
      "21-06-2019  16:42    <DIR>          Saved Games\n",
      "10-07-2019  16:39    <DIR>          Searches\n",
      "21-06-2019  15:24                72 Untitled.ipynb\n",
      "21-06-2019  15:32                72 Untitled1.ipynb\n",
      "26-06-2019  17:15             6,978 Untitled10.ipynb\n",
      "27-06-2019  17:15             8,525 Untitled11.ipynb\n",
      "28-06-2019  17:04            14,778 Untitled12.ipynb\n",
      "29-06-2019  09:39               555 Untitled13.ipynb\n",
      "29-06-2019  13:46             8,498 Untitled14.ipynb\n",
      "06-07-2019  09:20                72 Untitled15.ipynb\n",
      "08-07-2019  09:22               555 Untitled16.ipynb\n",
      "09-07-2019  09:21                72 Untitled17.ipynb\n",
      "10-07-2019  09:21                72 Untitled18.ipynb\n",
      "11-07-2019  09:16                72 Untitled19.ipynb\n",
      "22-06-2019  14:44             5,461 Untitled2.ipynb\n",
      "22-06-2019  16:05             1,366 Untitled3.ipynb\n",
      "24-06-2019  12:44             5,337 Untitled4.ipynb\n",
      "24-06-2019  17:35             6,252 Untitled5.ipynb\n",
      "25-06-2019  09:35                72 Untitled6.ipynb\n",
      "25-06-2019  16:59            10,069 Untitled7.ipynb\n",
      "25-06-2019  17:30               612 Untitled8.ipynb\n",
      "26-06-2019  13:01             5,831 Untitled9.ipynb\n",
      "21-06-2019  16:42    <DIR>          Videos\n",
      "              44 File(s)        307,247 bytes\n",
      "              22 Dir(s)  71,155,294,208 bytes free\n"
     ]
    }
   ],
   "source": [
    "ls"
   ]
  },
  {
   "cell_type": "code",
   "execution_count": 1,
   "metadata": {},
   "outputs": [
    {
     "name": "stdout",
     "output_type": "stream",
     "text": [
      "File is created and data has written\n"
     ]
    }
   ],
   "source": [
    "def createfile(filename):\n",
    "    f=open(filename,'w')\n",
    "    f.write('Testing...\\n')\n",
    "    print(\"File is created and data has written\")\n",
    "    return\n",
    "createfile('file1.txt')"
   ]
  },
  {
   "cell_type": "code",
   "execution_count": 2,
   "metadata": {},
   "outputs": [
    {
     "name": "stdout",
     "output_type": "stream",
     "text": [
      "File Created and Successfully data written\n"
     ]
    }
   ],
   "source": [
    "def appenddata(filename):\n",
    "    f=open(filename,'a')\n",
    "    for i in range(10):\n",
    "        f.write(\"This is %d Line \\n\" %i)\n",
    "    print(\"File Created and Successfully data written\")\n",
    "    return\n",
    "appenddata('file2.txt')"
   ]
  },
  {
   "cell_type": "code",
   "execution_count": 3,
   "metadata": {},
   "outputs": [
    {
     "name": "stdout",
     "output_type": "stream",
     "text": [
      "File Created and Successfully data written\n"
     ]
    }
   ],
   "source": [
    "def appenddata(filename):\n",
    "    f=open(filename,'a')\n",
    "    f.write(\"New Line 1 \\n\")\n",
    "    f.write(\"New Line 2 \\n\")\n",
    "    print(\"File Created and Successfully data written\")\n",
    "    f.close()\n",
    "    return\n",
    "appenddata('file2.txt')"
   ]
  },
  {
   "cell_type": "code",
   "execution_count": 4,
   "metadata": {},
   "outputs": [
    {
     "name": "stdout",
     "output_type": "stream",
     "text": [
      "This is 0 Line \n",
      "This is 1 Line \n",
      "This is 2 Line \n",
      "This is 3 Line \n",
      "This is 4 Line \n",
      "This is 5 Line \n",
      "This is 6 Line \n",
      "This is 7 Line \n",
      "This is 8 Line \n",
      "This is 9 Line \n",
      "New Line 1 \n",
      "New Line 2 \n",
      "New Line 1 \n",
      "New Line 2 \n",
      "New Line 1 \n",
      "New Line 2 \n",
      "New Line 1 \n",
      "New Line 2 \n",
      "This is 0 Line \n",
      "This is 1 Line \n",
      "This is 2 Line \n",
      "This is 3 Line \n",
      "This is 4 Line \n",
      "This is 5 Line \n",
      "This is 6 Line \n",
      "This is 7 Line \n",
      "This is 8 Line \n",
      "This is 9 Line \n",
      "New Line 1 \n",
      "New Line 2 \n",
      "\n"
     ]
    }
   ],
   "source": [
    "# Function to read of the file\n",
    "\n",
    "def readfiledata(filename):\n",
    "    f=open(filename,'r')\n",
    "    if f.mode=='r':\n",
    "        x=f.read()\n",
    "        print(x)\n",
    "    f.close()\n",
    "    return \n",
    "readfiledata('file2.txt')"
   ]
  },
  {
   "cell_type": "code",
   "execution_count": 12,
   "metadata": {},
   "outputs": [
    {
     "name": "stdout",
     "output_type": "stream",
     "text": [
      "Enter the file name  python\n",
      "Enter the mode of the file  a\n",
      "The data successfully written\n"
     ]
    }
   ],
   "source": [
    "# Function to read the File\n",
    "\n",
    "def fileoperations(filename,mode):\n",
    "    with open(filename,mode) as f:\n",
    "        if f.mode=='r':\n",
    "            data=f.read()\n",
    "            print(data)\n",
    "        elif f.mode=='a':\n",
    "            f.write('Data to the file')\n",
    "            print('The data successfully written')\n",
    "    f.close()\n",
    "    return\n",
    "filename=input('Enter the file name  ')\n",
    "mode=input('Enter the mode of the file  ')\n",
    "fileoperations(filename,mode)"
   ]
  },
  {
   "cell_type": "code",
   "execution_count": 13,
   "metadata": {},
   "outputs": [
    {
     "name": "stdout",
     "output_type": "stream",
     "text": [
      "Enter the file name : file2.txt\n",
      "Enter the word : This\n"
     ]
    },
    {
     "data": {
      "text/plain": [
       "20"
      ]
     },
     "execution_count": 13,
     "metadata": {},
     "output_type": "execute_result"
    }
   ],
   "source": [
    "# Data Analysis\n",
    "# Word count Program\n",
    "\n",
    "def wordcount(filename,word):\n",
    "    with open(filename,'r') as f:\n",
    "        if f.mode=='r':\n",
    "            x=f.read()\n",
    "            li=x.split()\n",
    "    cnt=li.count(word)\n",
    "    return cnt\n",
    "filename=input('Enter the file name : ')\n",
    "word=input('Enter the word : ')\n",
    "wordcount(filename,word)"
   ]
  },
  {
   "cell_type": "code",
   "execution_count": 4,
   "metadata": {},
   "outputs": [
    {
     "name": "stdout",
     "output_type": "stream",
     "text": [
      "enter the file name : file2.txt\n"
     ]
    },
    {
     "data": {
      "text/plain": [
       "440"
      ]
     },
     "execution_count": 4,
     "metadata": {},
     "output_type": "execute_result"
    }
   ],
   "source": [
    "# character count from the given file\n",
    "\n",
    "def charcount(filename):\n",
    "    with open(filename,'r') as f:\n",
    "        if f.mode=='r':\n",
    "             \n",
    "            x=f.read()\n",
    "            li=list(x)\n",
    "    return len(li)\n",
    "filename=input('enter the file name : ')\n",
    "charcount(filename)"
   ]
  },
  {
   "cell_type": "code",
   "execution_count": 5,
   "metadata": {},
   "outputs": [
    {
     "name": "stdout",
     "output_type": "stream",
     "text": [
      "['Python Progr', 'mming']\n"
     ]
    }
   ],
   "source": [
    "s1=\"Python Programming\"\n",
    "print(s1.split('a'))"
   ]
  },
  {
   "cell_type": "code",
   "execution_count": 4,
   "metadata": {},
   "outputs": [
    {
     "name": "stdout",
     "output_type": "stream",
     "text": [
      "Enter the filename : file2.txt\n"
     ]
    },
    {
     "data": {
      "text/plain": [
       "31"
      ]
     },
     "execution_count": 4,
     "metadata": {},
     "output_type": "execute_result"
    }
   ],
   "source": [
    "# Function to find the no of lines in the given input file\n",
    "\n",
    "def countoflines(filename):\n",
    "    with open(filename,'r') as f:\n",
    "        if f.mode=='r':\n",
    "            x=f.read()\n",
    "            li=x.split(\"\\n\")\n",
    "    return len(li)\n",
    "filename=input('Enter the filename : ')\n",
    "countoflines(filename)"
   ]
  },
  {
   "cell_type": "code",
   "execution_count": 1,
   "metadata": {},
   "outputs": [
    {
     "name": "stdout",
     "output_type": "stream",
     "text": [
      "Enter the filename : file2.txt\n"
     ]
    },
    {
     "data": {
      "text/plain": [
       "'Upper Case=60, Lower Case=210'"
      ]
     },
     "execution_count": 1,
     "metadata": {},
     "output_type": "execute_result"
    }
   ],
   "source": [
    "# Function to print the upper and lower characters\n",
    "\n",
    "def casecount(filename):\n",
    "    cntUpper=0\n",
    "    cntLower=0\n",
    "    with open(filename,'r') as f:\n",
    "        if f.mode=='r':\n",
    "            x=f.read()\n",
    "            li=list(x)\n",
    "    for i in li:\n",
    "        if i.isupper():\n",
    "            cntUpper+=1\n",
    "        elif i.islower():\n",
    "            cntLower+=1\n",
    "    output='Upper Case={0}, Lower Case={1}'.format(cntUpper,cntLower)\n",
    "    return output\n",
    "filename=input('Enter the filename : ')\n",
    "casecount(filename)"
   ]
  },
  {
   "cell_type": "markdown",
   "metadata": {},
   "source": [
    "### math , random, os\n",
    "\n",
    "- os package it contains the certain methods which works with os"
   ]
  },
  {
   "cell_type": "code",
   "execution_count": 12,
   "metadata": {},
   "outputs": [
    {
     "name": "stdout",
     "output_type": "stream",
     "text": [
      " Volume in drive C has no label.\n",
      " Volume Serial Number is F0CE-A24A\n",
      "\n",
      " Directory of C:\\\n",
      "\n",
      "05-03-2019  10:13    <DIR>          9260\n",
      "11-06-2009  03:12                24 autoexec.bat\n",
      "11-06-2009  03:12                10 config.sys\n",
      "10-03-2019  22:43    <DIR>          demo\n",
      "21-11-2018  10:00    <DIR>          java prog\n",
      "06-02-2018  14:21    <DIR>          naveen\n",
      "29-06-2018  10:55    <DIR>          oraclexe\n",
      "05-11-2017  16:06    <DIR>          Pearson\n",
      "14-07-2009  08:07    <DIR>          PerfLogs\n",
      "06-07-2019  15:50    <DIR>          Program Files\n",
      "17-06-2019  11:23    <DIR>          Users\n",
      "21-06-2019  16:09    <DIR>          Windows\n",
      "05-03-2019  10:38    <DIR>          xampp\n",
      "               2 File(s)             34 bytes\n",
      "              11 Dir(s)  70,440,288,256 bytes free\n"
     ]
    }
   ],
   "source": [
    "ls"
   ]
  },
  {
   "cell_type": "code",
   "execution_count": 13,
   "metadata": {},
   "outputs": [
    {
     "name": "stdout",
     "output_type": "stream",
     "text": [
      "[WinError 3] The system cannot find the path specified: 'Desktop/PythonProg/Git'\n",
      "C:\\\n"
     ]
    }
   ],
   "source": [
    "cd Desktop/PythonProg/Git"
   ]
  },
  {
   "cell_type": "code",
   "execution_count": 14,
   "metadata": {},
   "outputs": [
    {
     "name": "stdout",
     "output_type": "stream",
     "text": [
      "C:\\\n"
     ]
    }
   ],
   "source": [
    "cd .."
   ]
  },
  {
   "cell_type": "code",
   "execution_count": 16,
   "metadata": {},
   "outputs": [
    {
     "name": "stdout",
     "output_type": "stream",
     "text": [
      "[WinError 3] The system cannot find the path specified: 'Desktop/PythonProg/Git'\n",
      "C:\\\n"
     ]
    }
   ],
   "source": [
    "cd Desktop/PythonProg/Git"
   ]
  },
  {
   "cell_type": "code",
   "execution_count": 17,
   "metadata": {},
   "outputs": [
    {
     "name": "stdout",
     "output_type": "stream",
     "text": [
      "[WinError 3] The system cannot find the path specified: 'Desktop/PythonProg'\n",
      "C:\\\n"
     ]
    }
   ],
   "source": [
    "cd Desktop/PythonProg"
   ]
  },
  {
   "cell_type": "code",
   "execution_count": 18,
   "metadata": {
    "scrolled": true
   },
   "outputs": [
    {
     "name": "stdout",
     "output_type": "stream",
     "text": [
      " Volume in drive C has no label.\n",
      " Volume Serial Number is F0CE-A24A\n",
      "\n",
      " Directory of C:\\\n",
      "\n",
      "05-03-2019  10:13    <DIR>          9260\n",
      "11-06-2009  03:12                24 autoexec.bat\n",
      "11-06-2009  03:12                10 config.sys\n",
      "10-03-2019  22:43    <DIR>          demo\n",
      "21-11-2018  10:00    <DIR>          java prog\n",
      "06-02-2018  14:21    <DIR>          naveen\n",
      "29-06-2018  10:55    <DIR>          oraclexe\n",
      "05-11-2017  16:06    <DIR>          Pearson\n",
      "14-07-2009  08:07    <DIR>          PerfLogs\n",
      "06-07-2019  15:50    <DIR>          Program Files\n",
      "17-06-2019  11:23    <DIR>          Users\n",
      "21-06-2019  16:09    <DIR>          Windows\n",
      "05-03-2019  10:38    <DIR>          xampp\n",
      "               2 File(s)             34 bytes\n",
      "              11 Dir(s)  70,440,747,008 bytes free\n"
     ]
    }
   ],
   "source": [
    "ls"
   ]
  },
  {
   "cell_type": "code",
   "execution_count": 1,
   "metadata": {},
   "outputs": [
    {
     "ename": "FileNotFoundError",
     "evalue": "[WinError 3] The system cannot find the path specified: 'Git/'",
     "output_type": "error",
     "traceback": [
      "\u001b[1;31m---------------------------------------------------------------------------\u001b[0m",
      "\u001b[1;31mFileNotFoundError\u001b[0m                         Traceback (most recent call last)",
      "\u001b[1;32m<ipython-input-1-c0b7b42cf694>\u001b[0m in \u001b[0;36m<module>\u001b[1;34m\u001b[0m\n\u001b[0;32m      1\u001b[0m \u001b[1;32mimport\u001b[0m \u001b[0mos\u001b[0m\u001b[1;33m\u001b[0m\u001b[1;33m\u001b[0m\u001b[0m\n\u001b[1;32m----> 2\u001b[1;33m \u001b[0mos\u001b[0m\u001b[1;33m.\u001b[0m\u001b[0mlistdir\u001b[0m\u001b[1;33m(\u001b[0m\u001b[1;34m'Git/'\u001b[0m\u001b[1;33m)\u001b[0m\u001b[1;33m\u001b[0m\u001b[1;33m\u001b[0m\u001b[0m\n\u001b[0m",
      "\u001b[1;31mFileNotFoundError\u001b[0m: [WinError 3] The system cannot find the path specified: 'Git/'"
     ]
    }
   ],
   "source": [
    "import os\n",
    "os.listdir('Git/')"
   ]
  },
  {
   "cell_type": "code",
   "execution_count": 20,
   "metadata": {},
   "outputs": [
    {
     "name": "stdout",
     "output_type": "stream",
     "text": [
      "C:\\\n"
     ]
    }
   ],
   "source": [
    "cd .."
   ]
  },
  {
   "cell_type": "code",
   "execution_count": 21,
   "metadata": {},
   "outputs": [
    {
     "ename": "FileNotFoundError",
     "evalue": "[WinError 3] The system cannot find the path specified: 'Git/'",
     "output_type": "error",
     "traceback": [
      "\u001b[1;31m---------------------------------------------------------------------------\u001b[0m",
      "\u001b[1;31mFileNotFoundError\u001b[0m                         Traceback (most recent call last)",
      "\u001b[1;32m<ipython-input-21-c0b7b42cf694>\u001b[0m in \u001b[0;36m<module>\u001b[1;34m\u001b[0m\n\u001b[0;32m      1\u001b[0m \u001b[1;32mimport\u001b[0m \u001b[0mos\u001b[0m\u001b[1;33m\u001b[0m\u001b[1;33m\u001b[0m\u001b[0m\n\u001b[1;32m----> 2\u001b[1;33m \u001b[0mos\u001b[0m\u001b[1;33m.\u001b[0m\u001b[0mlistdir\u001b[0m\u001b[1;33m(\u001b[0m\u001b[1;34m'Git/'\u001b[0m\u001b[1;33m)\u001b[0m\u001b[1;33m\u001b[0m\u001b[1;33m\u001b[0m\u001b[0m\n\u001b[0m",
      "\u001b[1;31mFileNotFoundError\u001b[0m: [WinError 3] The system cannot find the path specified: 'Git/'"
     ]
    }
   ],
   "source": [
    "import os\n",
    "os.listdir('Git/')"
   ]
  },
  {
   "cell_type": "code",
   "execution_count": 22,
   "metadata": {},
   "outputs": [
    {
     "ename": "FileNotFoundError",
     "evalue": "[WinError 3] The system cannot find the path specified: 'Git/'",
     "output_type": "error",
     "traceback": [
      "\u001b[1;31m---------------------------------------------------------------------------\u001b[0m",
      "\u001b[1;31mFileNotFoundError\u001b[0m                         Traceback (most recent call last)",
      "\u001b[1;32m<ipython-input-22-4dc5ed2bc8a1>\u001b[0m in \u001b[0;36m<module>\u001b[1;34m\u001b[0m\n\u001b[1;32m----> 1\u001b[1;33m \u001b[0mli\u001b[0m\u001b[1;33m=\u001b[0m\u001b[0mos\u001b[0m\u001b[1;33m.\u001b[0m\u001b[0mlistdir\u001b[0m\u001b[1;33m(\u001b[0m\u001b[1;34m'Git/'\u001b[0m\u001b[1;33m)\u001b[0m\u001b[1;33m\u001b[0m\u001b[1;33m\u001b[0m\u001b[0m\n\u001b[0m\u001b[0;32m      2\u001b[0m \u001b[1;32mfor\u001b[0m \u001b[0mi\u001b[0m \u001b[1;32min\u001b[0m \u001b[0mli\u001b[0m\u001b[1;33m:\u001b[0m\u001b[1;33m\u001b[0m\u001b[1;33m\u001b[0m\u001b[0m\n\u001b[0;32m      3\u001b[0m     \u001b[0mprint\u001b[0m\u001b[1;33m(\u001b[0m\u001b[0mi\u001b[0m\u001b[1;33m)\u001b[0m\u001b[1;33m\u001b[0m\u001b[1;33m\u001b[0m\u001b[0m\n",
      "\u001b[1;31mFileNotFoundError\u001b[0m: [WinError 3] The system cannot find the path specified: 'Git/'"
     ]
    }
   ],
   "source": [
    "li=os.listdir('Git/')\n",
    "for i in li:\n",
    "    print(i)"
   ]
  },
  {
   "cell_type": "markdown",
   "metadata": {},
   "source": [
    "\n",
    "\n",
    "- older version python -- os.listdir()\n",
    "\n",
    "- new version python -- os.scandir() and pathlib.path()"
   ]
  },
  {
   "cell_type": "markdown",
   "metadata": {},
   "source": [
    "# listing subdirectories\n",
    "\n",
    "# creating a single directory\n",
    "\n",
    "# creating multiple directories\n",
    "\n",
    "# delete files and directories\n",
    "\n",
    "# regular expressions\n",
    "\n",
    "- used to specific pattern matching\n",
    "- symbolic notation of pattern\n",
    "- patterns represent set of values\n",
    "\n"
   ]
  },
  {
   "cell_type": "code",
   "execution_count": null,
   "metadata": {},
   "outputs": [],
   "source": []
  }
 ],
 "metadata": {
  "kernelspec": {
   "display_name": "Python 3",
   "language": "python",
   "name": "python3"
  },
  "language_info": {
   "codemirror_mode": {
    "name": "ipython",
    "version": 3
   },
   "file_extension": ".py",
   "mimetype": "text/x-python",
   "name": "python",
   "nbconvert_exporter": "python",
   "pygments_lexer": "ipython3",
   "version": "3.7.3"
  }
 },
 "nbformat": 4,
 "nbformat_minor": 2
}
