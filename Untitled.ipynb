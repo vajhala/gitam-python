{
 "cells": [
  {
   "cell_type": "code",
   "execution_count": 1,
   "metadata": {},
   "outputs": [
    {
     "name": "stdout",
     "output_type": "stream",
     "text": [
      "enter number 16\n",
      "enter number 228\n",
      "enter number 324\n",
      "28 is the large number\n"
     ]
    }
   ],
   "source": [
    "# find the large number from the given 3 numbers\n",
    "\n",
    "a1=int(input(\"enter number 1\"))\n",
    "a2=int(input(\"enter number 2\"))\n",
    "a3=int(input(\"enter number 3\"))\n",
    "if a1>a2 and a1>a3:\n",
    "    print(a1,\"is the large number\")\n",
    "elif a2>a1 and a2>a3:\n",
    "    print(a2,\"is the large number\")\n",
    "elif a3>a1 and a3>a2:\n",
    "    print(a3,\"is the large number\")\n",
    "    "
   ]
  },
  {
   "cell_type": "code",
   "execution_count": 7,
   "metadata": {},
   "outputs": [
    {
     "name": "stdout",
     "output_type": "stream",
     "text": [
      "enter a year  2012\n",
      "2012 is not a leap year\n"
     ]
    }
   ],
   "source": [
    "# check if a year is leap year or not\n",
    "\n",
    "n=int(input(\"enter a year  \"))\n",
    "if n%400==0:\n",
    "    print(n,\"it is a leap year\")\n",
    "else:\n",
    "    print(n,\"is not a leap year\")"
   ]
  },
  {
   "cell_type": "code",
   "execution_count": null,
   "metadata": {},
   "outputs": [],
   "source": [
    "###Iteration:\n",
    "    \n",
    "    .for\n",
    "    .while\n",
    "    \n",
    "    Boolean condition:\n",
    "        .statements\n",
    "        .increment/decrement"
   ]
  },
  {
   "cell_type": "code",
   "execution_count": 8,
   "metadata": {},
   "outputs": [
    {
     "name": "stdout",
     "output_type": "stream",
     "text": [
      "gitam\n",
      "gitam\n",
      "gitam\n",
      "gitam\n",
      "gitam\n"
     ]
    }
   ],
   "source": [
    "# need to print gitam 5 times\n",
    "\n",
    "print(\"gitam\")\n",
    "print(\"gitam\")\n",
    "print(\"gitam\")\n",
    "print(\"gitam\")\n",
    "print(\"gitam\")"
   ]
  },
  {
   "cell_type": "code",
   "execution_count": 9,
   "metadata": {},
   "outputs": [
    {
     "name": "stdout",
     "output_type": "stream",
     "text": [
      "gitam\n",
      "gitam\n",
      "gitam\n",
      "gitam\n",
      "gitam\n"
     ]
    }
   ],
   "source": [
    "x=0\n",
    "while x<5:\n",
    "    print(\"gitam\")\n",
    "    x=x+1"
   ]
  },
  {
   "cell_type": "code",
   "execution_count": 13,
   "metadata": {},
   "outputs": [
    {
     "name": "stdout",
     "output_type": "stream",
     "text": [
      "enter a number  10\n",
      "the natural numbers are\n",
      "1\n",
      "2\n",
      "3\n",
      "4\n",
      "5\n",
      "6\n",
      "7\n",
      "8\n",
      "9\n",
      "10\n"
     ]
    }
   ],
   "source": [
    "# print n natural numbers using while loop\n",
    "\n",
    "n=int(input(\"enter a number  \"))\n",
    "i=1\n",
    "print(\"the natural numbers are\")\n",
    "while i<=n:\n",
    "    print(i)\n",
    "    i=i+1"
   ]
  },
  {
   "cell_type": "code",
   "execution_count": 23,
   "metadata": {},
   "outputs": [
    {
     "name": "stdout",
     "output_type": "stream",
     "text": [
      "enter a number  15\n",
      "the sum is\n",
      "56\n"
     ]
    }
   ],
   "source": [
    "# read a number --n\n",
    "# add only even numbers between 1 to n\n",
    "# input --10\n",
    "# output --30\n",
    "\n",
    "n=int(input(\"enter a number  \"))\n",
    "i=0\n",
    "sum=0\n",
    "print(\"the sum is\")\n",
    "while i<=n:\n",
    "    \n",
    "    sum=sum+i\n",
    "    i=i+2\n",
    "print(sum)"
   ]
  },
  {
   "cell_type": "code",
   "execution_count": 1,
   "metadata": {},
   "outputs": [
    {
     "name": "stdout",
     "output_type": "stream",
     "text": [
      "enter a number  123\n",
      "3  2  1  "
     ]
    }
   ],
   "source": [
    "# number as a number --123\n",
    "# print the digits of given number --321\n",
    "\n",
    "n=int(input(\"enter a number  \"))\n",
    "while n!=0:\n",
    "    r=n%10\n",
    "    print(r,end=\"  \")\n",
    "    n=n//10  #coffients of the divisor"
   ]
  },
  {
   "cell_type": "code",
   "execution_count": null,
   "metadata": {},
   "outputs": [],
   "source": [
    "functional programming\n",
    "\n",
    ".simple\n",
    ".easy read\n",
    ".lengthy program divides into sub programs\n"
   ]
  },
  {
   "cell_type": "code",
   "execution_count": 9,
   "metadata": {},
   "outputs": [
    {
     "data": {
      "text/plain": [
       "6"
      ]
     },
     "execution_count": 9,
     "metadata": {},
     "output_type": "execute_result"
    }
   ],
   "source": [
    "# read a number  --1234\n",
    "# output --6(2+4)\n",
    "\n",
    "def addevendigit(n):\n",
    "    sum=0\n",
    "    while n!=0:\n",
    "        r=n%10\n",
    "        if r%2==0:\n",
    "            sum=sum+r\n",
    "        n=n//10\n",
    "    return sum\n",
    "addevendigit(1234)"
   ]
  },
  {
   "cell_type": "code",
   "execution_count": 13,
   "metadata": {},
   "outputs": [
    {
     "data": {
      "text/plain": [
       "3"
      ]
     },
     "execution_count": 13,
     "metadata": {},
     "output_type": "execute_result"
    }
   ],
   "source": [
    "# read a number input\n",
    "\n",
    "def reversenumber(n):\n",
    "    rev=0\n",
    "    while n!=0:\n",
    "        r=n%10\n",
    "        rev=rev*10+r\n",
    "        n=n//10\n",
    "        return rev\n",
    "reversenumber(123)"
   ]
  },
  {
   "cell_type": "code",
   "execution_count": 16,
   "metadata": {},
   "outputs": [
    {
     "name": "stdout",
     "output_type": "stream",
     "text": [
      "1  2  3  4  5  6  7  8  9  10  "
     ]
    }
   ],
   "source": [
    "def printnaturalnumbers(n):\n",
    "    for x in range(1,n+1):\n",
    "        print(x,end=\"  \")\n",
    "    return\n",
    "printnaturalnumbers(10)"
   ]
  },
  {
   "cell_type": "code",
   "execution_count": 17,
   "metadata": {},
   "outputs": [
    {
     "name": "stdout",
     "output_type": "stream",
     "text": [
      "11  12  13  14  15  16  17  18  19  20  21  22  23  24  25  "
     ]
    }
   ],
   "source": [
    "def printseries(lb,ub):\n",
    "    for x in range(lb,ub+1):\n",
    "        print(x,end=\"  \")\n",
    "    return\n",
    "printseries(11,25)"
   ]
  },
  {
   "cell_type": "code",
   "execution_count": null,
   "metadata": {},
   "outputs": [],
   "source": [
    "def reverserange(start,end):\n",
    "    for x in range(end,start-1,)"
   ]
  }
 ],
 "metadata": {
  "kernelspec": {
   "display_name": "Python 3",
   "language": "python",
   "name": "python3"
  },
  "language_info": {
   "codemirror_mode": {
    "name": "ipython",
    "version": 3
   },
   "file_extension": ".py",
   "mimetype": "text/x-python",
   "name": "python",
   "nbconvert_exporter": "python",
   "pygments_lexer": "ipython3",
   "version": "3.7.3"
  }
 },
 "nbformat": 4,
 "nbformat_minor": 2
}
