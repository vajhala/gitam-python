{
 "cells": [
  {
   "cell_type": "code",
   "execution_count": 3,
   "metadata": {},
   "outputs": [
    {
     "name": "stdout",
     "output_type": "stream",
     "text": [
      "1  2  3  4  6  12  "
     ]
    }
   ],
   "source": [
    "# find the factors of a given number\n",
    "# 12 --> 1 2 3 4 6 12 \n",
    "\n",
    "def factorslist(n):\n",
    "    for i in range(1,n+1):\n",
    "        if n%i==0:\n",
    "            print(i,end=\"  \")\n",
    "    return\n",
    "factorslist(12)"
   ]
  },
  {
   "cell_type": "code",
   "execution_count": 12,
   "metadata": {},
   "outputs": [
    {
     "data": {
      "text/plain": [
       "True"
      ]
     },
     "execution_count": 12,
     "metadata": {},
     "output_type": "execute_result"
    }
   ],
   "source": [
    "# given number is prime number or not\n",
    "\n",
    "def isprime(n):\n",
    "    flag=True\n",
    "    for i in range(2,n//2+1):\n",
    "        if n%i==0:\n",
    "            flag=False\n",
    "            return flag\n",
    "    return flag\n",
    "isprime(7)"
   ]
  },
  {
   "cell_type": "code",
   "execution_count": 14,
   "metadata": {},
   "outputs": [
    {
     "data": {
      "text/plain": [
       "4"
      ]
     },
     "execution_count": 14,
     "metadata": {},
     "output_type": "execute_result"
    }
   ],
   "source": [
    "# function to find prime numbers from 1 to n \n",
    "# 10 --> 4(2,3,5,7)\n",
    "\n",
    "def count(n):\n",
    "    cnt=0\n",
    "    for a in range(2,n+1):\n",
    "        k=0\n",
    "        for i in range(2,a//2+1):\n",
    "            if a%i==0:\n",
    "                k=k+1\n",
    "        if(k<=0):\n",
    "            cnt=cnt+1\n",
    "    return cnt\n",
    "count(10)"
   ]
  },
  {
   "cell_type": "code",
   "execution_count": 19,
   "metadata": {},
   "outputs": [
    {
     "name": "stdout",
     "output_type": "stream",
     "text": [
      "yes\n",
      "no\n"
     ]
    }
   ],
   "source": [
    "# individual digit factorial sum is same as original number\n",
    "# 145 -- yes(5!+4!+1!=145)\n",
    "# 123 -- no(3!+2!+1!=9)\n",
    "\n",
    "def factorial(n):\n",
    "    fact=1\n",
    "    for i in range(2,n+1):\n",
    "        fact=fact*i\n",
    "    return fact\n",
    "def factorialsum(n):\n",
    "    sum=0\n",
    "    buffer=n\n",
    "    while n!=0:\n",
    "        r=n%10\n",
    "        sum+=factorial(r)\n",
    "        n=n//10\n",
    "    if sum==buffer:\n",
    "            return \"yes\"\n",
    "    else:\n",
    "            return \"no\"\n",
    "    return \n",
    "print(factorialsum(145))  \n",
    "print(factorialsum(123))"
   ]
  },
  {
   "cell_type": "code",
   "execution_count": 2,
   "metadata": {},
   "outputs": [
    {
     "data": {
      "text/plain": [
       "9"
      ]
     },
     "execution_count": 2,
     "metadata": {},
     "output_type": "execute_result"
    }
   ],
   "source": [
    "# function to return the count of palindrome numbers two limits\n",
    "\n",
    "def ispalindrome(n):\n",
    "    rev=0\n",
    "    buffer=n\n",
    "    while n!=0:\n",
    "        r=n%10\n",
    "        rev=rev*10+r\n",
    "        n=n//10\n",
    "    if rev==buffer:\n",
    "        return True\n",
    "    else:\n",
    "        return False\n",
    "    return\n",
    "        \n",
    "def countpalindrome(lb,ub):\n",
    "    cnt=0\n",
    "    while lb!=ub:\n",
    "        if ispalindrome(lb)==True:\n",
    "            cnt=cnt+1\n",
    "            lb=lb+1\n",
    "    return cnt\n",
    "countpalindrome(1,10)\n",
    "        \n",
    "\n"
   ]
  },
  {
   "cell_type": "code",
   "execution_count": 3,
   "metadata": {},
   "outputs": [
    {
     "name": "stdout",
     "output_type": "stream",
     "text": [
      "6  \n",
      "6  28  496  8128  \n"
     ]
    }
   ],
   "source": [
    "# function to generate the perfect numbers in a given range\n",
    "\n",
    "def factorslist(n):\n",
    "    sum=0\n",
    "    for i in range(1,n//2+1):\n",
    "        if n%i==0:\n",
    "            sum=sum+i\n",
    "    return sum\n",
    "def isperfect(n):\n",
    "    if factorslist(n)==n:\n",
    "        return True\n",
    "    return False\n",
    "def generateperfect(lb,ub):\n",
    "    for x in range(lb,ub+1):\n",
    "        if isperfect(x):\n",
    "            print(x,end=\"  \")\n",
    "    print()\n",
    "    return\n",
    "generateperfect(1,10)\n",
    "generateperfect(1,10000)"
   ]
  },
  {
   "cell_type": "code",
   "execution_count": 4,
   "metadata": {},
   "outputs": [],
   "source": [
    "# programming in python\n"
   ]
  },
  {
   "cell_type": "code",
   "execution_count": 5,
   "metadata": {},
   "outputs": [
    {
     "name": "stdout",
     "output_type": "stream",
     "text": [
      "p\n",
      "y\n",
      "n\n",
      "n\n"
     ]
    }
   ],
   "source": [
    "s1='python'\n",
    "print(s1[0])\n",
    "print(s1[1])\n",
    "print(s1[5])\n",
    "print(s1[len(s1)-1])"
   ]
  },
  {
   "cell_type": "code",
   "execution_count": 6,
   "metadata": {},
   "outputs": [
    {
     "name": "stdout",
     "output_type": "stream",
     "text": [
      "n\n",
      "o\n",
      "py\n",
      "py\n",
      "hon\n",
      "thon\n"
     ]
    }
   ],
   "source": [
    "print(s1[-1])\n",
    "print(s1[-2])\n",
    "print(s1[0:2])\n",
    "print(s1[:2])\n",
    "print(s1[-3:])\n",
    "print(s1[2:])\n"
   ]
  },
  {
   "cell_type": "code",
   "execution_count": 7,
   "metadata": {},
   "outputs": [
    {
     "name": "stdout",
     "output_type": "stream",
     "text": [
      "ytho\n",
      "h\n",
      "nohtyp\n",
      "no\n"
     ]
    }
   ],
   "source": [
    "print(s1[1:-1])\n",
    "print(s1[len(s1)//2])\n",
    "print(s1[-1::-1])\n",
    "print(s1[-1:-3:-1])\n"
   ]
  },
  {
   "cell_type": "code",
   "execution_count": 8,
   "metadata": {},
   "outputs": [
    {
     "name": "stdout",
     "output_type": "stream",
     "text": [
      "pto\n",
      "ph\n",
      "nhy\n"
     ]
    }
   ],
   "source": [
    "print(s1[::2])\n",
    "print(s1[::3])\n",
    "print(s1[::-2])\n"
   ]
  },
  {
   "cell_type": "code",
   "execution_count": 1,
   "metadata": {},
   "outputs": [
    {
     "data": {
      "text/plain": [
       "'gnimmargorp'"
      ]
     },
     "execution_count": 1,
     "metadata": {},
     "output_type": "execute_result"
    }
   ],
   "source": [
    "def reversestring(str):\n",
    "    return str[-1::-1]\n",
    "reversestring(\"programming\")\n"
   ]
  },
  {
   "cell_type": "code",
   "execution_count": 2,
   "metadata": {},
   "outputs": [
    {
     "name": "stdout",
     "output_type": "stream",
     "text": [
      "False\n",
      "False\n"
     ]
    }
   ],
   "source": [
    "def ispalindrome(str):\n",
    "    if str==str[::-1]:\n",
    "        return True\n",
    "    else:\n",
    "        return False\n",
    "    return\n",
    "print(ispalindrome(\"python\"))\n",
    "print(ispalindrome(\"srihitha\"))\n"
   ]
  },
  {
   "cell_type": "code",
   "execution_count": 3,
   "metadata": {},
   "outputs": [
    {
     "name": "stdout",
     "output_type": "stream",
     "text": [
      "P  T  "
     ]
    }
   ],
   "source": [
    "def printupper(x):\n",
    "    for i in range(len(x)):\n",
    "        if ord(x[i])>=65 and ord(x[i])<=90:\n",
    "            print(x[i],end=\"  \")\n",
    "    return\n",
    "printupper(\"PyThon\")"
   ]
  },
  {
   "cell_type": "code",
   "execution_count": 4,
   "metadata": {},
   "outputs": [
    {
     "data": {
      "text/plain": [
       "65"
      ]
     },
     "execution_count": 4,
     "metadata": {},
     "output_type": "execute_result"
    }
   ],
   "source": [
    "ord('A')"
   ]
  },
  {
   "cell_type": "code",
   "execution_count": 5,
   "metadata": {},
   "outputs": [
    {
     "data": {
      "text/plain": [
       "97"
      ]
     },
     "execution_count": 5,
     "metadata": {},
     "output_type": "execute_result"
    }
   ],
   "source": [
    "ord('a')"
   ]
  },
  {
   "cell_type": "code",
   "execution_count": 6,
   "metadata": {},
   "outputs": [
    {
     "data": {
      "text/plain": [
       "'same count'"
      ]
     },
     "execution_count": 6,
     "metadata": {},
     "output_type": "execute_result"
    }
   ],
   "source": [
    "def findcount(str):\n",
    "    cntupper=0\n",
    "    cntlower=0\n",
    "    for x in range(len(str)):\n",
    "        if ord(str[x])>=97 and ord(str[x])<=122:\n",
    "            cntlower=cntlower+1\n",
    "            if cntlower==cntlower:\n",
    "                return \"same count\"\n",
    "            else:\n",
    "                return \"programming\"\n",
    "            return\n",
    "findcount('PyThoN')\n",
    "findcount('pYTHon')"
   ]
  },
  {
   "cell_type": "code",
   "execution_count": 7,
   "metadata": {},
   "outputs": [
    {
     "name": "stdout",
     "output_type": "stream",
     "text": [
      "1  8  8  9  "
     ]
    }
   ],
   "source": [
    "def extractdigits(str):\n",
    "    for x in range(len(str)):\n",
    "        if ord(str[x])>=48 and ord(str[x])<=57:\n",
    "            print(str[x],end=\"  \")\n",
    "    return\n",
    "extractdigits(\"appli1cat8ion89\")"
   ]
  },
  {
   "cell_type": "code",
   "execution_count": 8,
   "metadata": {},
   "outputs": [
    {
     "data": {
      "text/plain": [
       "26"
      ]
     },
     "execution_count": 8,
     "metadata": {},
     "output_type": "execute_result"
    }
   ],
   "source": [
    "def sumofdigits(str):\n",
    "    sum=0\n",
    "    for x in range(len(str)):\n",
    "        if ord(str[x])>=48 and ord(str[x])<=57:\n",
    "            sum=sum+(ord(str[x])-48)\n",
    "    return sum\n",
    "sumofdigits('appli1cat8ion89')"
   ]
  },
  {
   "cell_type": "code",
   "execution_count": 16,
   "metadata": {},
   "outputs": [
    {
     "data": {
      "text/plain": [
       "16"
      ]
     },
     "execution_count": 16,
     "metadata": {},
     "output_type": "execute_result"
    }
   ],
   "source": [
    "def sumofevendigits(str):\n",
    "    sum=0\n",
    "    for x in range(len(str)):\n",
    "        if ord(str[x])>=48 and ord(str[x])<=57:\n",
    "            if (ord(str[x])-48)%2==0:\n",
    "                sum=sum+(ord(str[x])-48)\n",
    "    return sum\n",
    "sumofevendigits('appli1cat8ion89')"
   ]
  },
  {
   "cell_type": "code",
   "execution_count": 22,
   "metadata": {},
   "outputs": [
    {
     "name": "stdout",
     "output_type": "stream",
     "text": [
      "M  A  D  E  "
     ]
    }
   ],
   "source": [
    "# function to print the specific word in upper case\n",
    "\n",
    "def worduppercase(s):\n",
    "    spacecnt=0\n",
    "    for x in range(len(s)):\n",
    "        if ord(s[x])==32:\n",
    "            spacecnt=spacecnt+1\n",
    "        if spacecnt==1:\n",
    "                if ord(s[x])>=65 and ord(s[x])<=90:\n",
    "                    print(s[x],end=\"  \")\n",
    "                elif ord(s[x])>=97 and ord(s[x])<=122:\n",
    "                    print(chr(ord(s[x])-32),end=\"  \")\n",
    "        if spacecnt==2:\n",
    "                break\n",
    "    return\n",
    "worduppercase('PYTHON MADE EASY')"
   ]
  },
  {
   "cell_type": "code",
   "execution_count": null,
   "metadata": {},
   "outputs": [],
   "source": []
  },
  {
   "cell_type": "code",
   "execution_count": null,
   "metadata": {},
   "outputs": [],
   "source": []
  }
 ],
 "metadata": {
  "kernelspec": {
   "display_name": "Python 3",
   "language": "python",
   "name": "python3"
  },
  "language_info": {
   "codemirror_mode": {
    "name": "ipython",
    "version": 3
   },
   "file_extension": ".py",
   "mimetype": "text/x-python",
   "name": "python",
   "nbconvert_exporter": "python",
   "pygments_lexer": "ipython3",
   "version": "3.7.3"
  }
 },
 "nbformat": 4,
 "nbformat_minor": 2
}
