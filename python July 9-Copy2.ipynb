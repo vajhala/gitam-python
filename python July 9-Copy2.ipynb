{
 "cells": [
  {
   "cell_type": "markdown",
   "metadata": {},
   "source": [
    "# Day objectives\n",
    ". python data structures\n",
    ". lists\n",
    ". tuples\n",
    ". dictionaries\n",
    ". basic program sets on data structures\n",
    ". advanced problem set\n",
    "contact application(dictionary object)\n",
    "\n",
    "Data structures:\n",
    ". To store, search and sort the data\n",
    "\n",
    "### Python data structures\n",
    "### Lists\n",
    "- Its one of common data structures supports by python , the lists items are seperated by coma operator and enclosed in square brackets\n",
    ". Example:\n",
    ". list1=[1,6,2,18,9]\n",
    ". list2=[\"gitam\",10,12,15,5,\"hyderabad\"]\n",
    "\n"
   ]
  },
  {
   "cell_type": "code",
   "execution_count": 1,
   "metadata": {},
   "outputs": [
    {
     "name": "stdout",
     "output_type": "stream",
     "text": [
      "[1, 8, 16, 9, 2]\n",
      "1\n",
      "8\n",
      "2\n",
      "9\n",
      "[8, 16, 9, 2]\n",
      "[8, 16, 9]\n"
     ]
    }
   ],
   "source": [
    "lst=[1,8,16,9,2]\n",
    "print(lst)\n",
    "print(lst[0])\n",
    "print(lst[1])\n",
    "print(lst[-1])\n",
    "print(lst[-2])\n",
    "print(lst[1:])\n",
    "print(lst[1:4])"
   ]
  },
  {
   "cell_type": "code",
   "execution_count": 2,
   "metadata": {},
   "outputs": [
    {
     "name": "stdout",
     "output_type": "stream",
     "text": [
      "['Gitam', 'Python', 1989, 2002]\n",
      "['Gitam', 'Python', 2019, 2002]\n"
     ]
    }
   ],
   "source": [
    "lst=[\"Gitam\",\"Python\",1989,2002]\n",
    "print(lst)\n",
    "lst[2]=2019\n",
    "print(lst)"
   ]
  },
  {
   "cell_type": "code",
   "execution_count": 3,
   "metadata": {},
   "outputs": [
    {
     "name": "stdout",
     "output_type": "stream",
     "text": [
      "['Gitam', 'Python', 2019, 2002]\n",
      "['Gitam', 'Python', 2002]\n"
     ]
    }
   ],
   "source": [
    "# delete the specific item in the list\n",
    "\n",
    "print(lst)\n",
    "del lst[2]\n",
    "print(lst)"
   ]
  },
  {
   "cell_type": "code",
   "execution_count": 6,
   "metadata": {},
   "outputs": [
    {
     "name": "stdout",
     "output_type": "stream",
     "text": [
      "5\n",
      "[1, 9, 6, 18, 2, 1, 9, 6, 18, 2]\n",
      "5\n",
      "True\n",
      "False\n",
      "1  9  6  18  2  "
     ]
    }
   ],
   "source": [
    "# basic list operations\n",
    "\n",
    "lst1=[1,9,6,18,2]\n",
    "print(len(lst1))\n",
    "print(lst1*2)\n",
    "print(len(lst1))\n",
    "print(9 in lst1)\n",
    "print(15 in lst1)\n",
    "\n",
    "for x in range(len(lst1)):\n",
    "    print(lst1[x],end=\"  \")"
   ]
  },
  {
   "cell_type": "code",
   "execution_count": 18,
   "metadata": {},
   "outputs": [
    {
     "name": "stdout",
     "output_type": "stream",
     "text": [
      "1\n",
      "18\n",
      "36\n",
      "7\n",
      "13.5\n"
     ]
    }
   ],
   "source": [
    "# function of the list \n",
    "\n",
    "lst1\n",
    "print(min(lst1))\n",
    "print(max(lst1))\n",
    "print(sum(lst1))\n",
    "print(sum(lst1)//len(lst1))\n",
    "print(sum(lst1[1::2])/len(lst1[1::2]))"
   ]
  },
  {
   "cell_type": "code",
   "execution_count": 19,
   "metadata": {},
   "outputs": [
    {
     "data": {
      "text/plain": [
       "[9, 18]"
      ]
     },
     "execution_count": 19,
     "metadata": {},
     "output_type": "execute_result"
    }
   ],
   "source": [
    "lst1[1::2]"
   ]
  },
  {
   "cell_type": "code",
   "execution_count": 2,
   "metadata": {},
   "outputs": [
    {
     "data": {
      "text/plain": [
       "[45, 23, 24, 18, 9, 6, 1]"
      ]
     },
     "execution_count": 2,
     "metadata": {},
     "output_type": "execute_result"
    }
   ],
   "source": [
    "lst1=[1,9,6,18,2]\n",
    "lst1\n",
    "lst1.append(24)\n",
    "lst1\n",
    "lst1.insert(2,56)\n",
    "lst1\n",
    "lst1.count(18)\n",
    "lst1.index(56)\n",
    "lst1.sort()\n",
    "lst1\n",
    "lst1.pop()\n",
    "lst1\n",
    "lst1.pop(1)\n",
    "lst1\n",
    "lst2=[123,23,45]\n",
    "lst1.extend(lst2)\n",
    "lst1\n",
    "lst1.reverse()\n",
    "lst1.remove(123)\n",
    "lst1"
   ]
  },
  {
   "cell_type": "code",
   "execution_count": 3,
   "metadata": {},
   "outputs": [
    {
     "data": {
      "text/plain": [
       "[45, 23, 24, 18, 9, 6, 1]"
      ]
     },
     "execution_count": 3,
     "metadata": {},
     "output_type": "execute_result"
    }
   ],
   "source": [
    "lst1"
   ]
  },
  {
   "cell_type": "code",
   "execution_count": 4,
   "metadata": {},
   "outputs": [
    {
     "name": "stdout",
     "output_type": "stream",
     "text": [
      "[3, 2, 9]\n"
     ]
    }
   ],
   "source": [
    "lst=[1,9,8,2,6,3]\n",
    "print(lst[-1::-2])"
   ]
  },
  {
   "cell_type": "code",
   "execution_count": 6,
   "metadata": {},
   "outputs": [
    {
     "data": {
      "text/plain": [
       "[45, 23, 24, 18, 9, 6, 1]"
      ]
     },
     "execution_count": 6,
     "metadata": {},
     "output_type": "execute_result"
    }
   ],
   "source": [
    "lst1"
   ]
  },
  {
   "cell_type": "code",
   "execution_count": 13,
   "metadata": {},
   "outputs": [
    {
     "data": {
      "text/plain": [
       "6"
      ]
     },
     "execution_count": 13,
     "metadata": {},
     "output_type": "execute_result"
    }
   ],
   "source": [
    "# function to find the second large item from the list\n",
    "\n",
    "def secondlarge(li):\n",
    "    li.sort()\n",
    "    return li[-2]\n",
    "def genericlarge(li,n):\n",
    "    li.sort()\n",
    "    return li[-n]\n",
    "li=[1,19,6,2,8,18,3]\n",
    "genericlarge(li,4)"
   ]
  },
  {
   "cell_type": "code",
   "execution_count": 11,
   "metadata": {},
   "outputs": [
    {
     "name": "stdout",
     "output_type": "stream",
     "text": [
      "[3, 2]\n"
     ]
    }
   ],
   "source": [
    "li=[1,9,8,2,6,3]\n",
    "print(li[-1:2:-2])"
   ]
  },
  {
   "cell_type": "code",
   "execution_count": 4,
   "metadata": {},
   "outputs": [
    {
     "data": {
      "text/plain": [
       "6"
      ]
     },
     "execution_count": 4,
     "metadata": {},
     "output_type": "execute_result"
    }
   ],
   "source": [
    "# function to find the least item from the list\n",
    "\n",
    "def secondleast(li):\n",
    "    li.sort()\n",
    "    return li[1]\n",
    "def genericleast(li,n):\n",
    "    li.sort()\n",
    "    return li[n-1]\n",
    "li=[1,19,6,2,8,18,3]\n",
    "genericleast(li,4)"
   ]
  },
  {
   "cell_type": "code",
   "execution_count": 5,
   "metadata": {},
   "outputs": [
    {
     "name": "stdout",
     "output_type": "stream",
     "text": [
      "1  4  8  "
     ]
    }
   ],
   "source": [
    "def linearsearch2(li,taritem):\n",
    "    for x in range(len(li)):\n",
    "        if li[x]==taritem:\n",
    "            print(x,end=\"  \")\n",
    "    return\n",
    "li=[1,5,9,6,5,15,1,2,5]\n",
    "linearsearch2(li,5)"
   ]
  },
  {
   "cell_type": "code",
   "execution_count": 6,
   "metadata": {},
   "outputs": [
    {
     "data": {
      "text/plain": [
       "-1"
      ]
     },
     "execution_count": 6,
     "metadata": {},
     "output_type": "execute_result"
    }
   ],
   "source": [
    "def linearsearch(li,taritem):\n",
    "    for x in range(len(li)):\n",
    "        if li[x]==taritem:\n",
    "            return x\n",
    "        return -1\n",
    "li=[1,19,6,2,8,18,3]\n",
    "linearsearch(li,225)"
   ]
  },
  {
   "cell_type": "code",
   "execution_count": 7,
   "metadata": {},
   "outputs": [
    {
     "name": "stdout",
     "output_type": "stream",
     "text": [
      "!    !    !    !    !    !    !    !    !    !    !    !    !    !    !    !    "
     ]
    }
   ],
   "source": [
    "def linearsearch3(li,taritem):\n",
    "    for x in range(len(li)):\n",
    "        if li[x]==taritem:\n",
    "            j=0\n",
    "            while j!=x+1:\n",
    "                print(\"!\",end=\"  \")\n",
    "                j=j+1\n",
    "                print(end=\"  \")\n",
    "    return\n",
    "li=[1,5,9,6,5,15,1,2,5]\n",
    "linearsearch3(li,5)"
   ]
  },
  {
   "cell_type": "code",
   "execution_count": 9,
   "metadata": {},
   "outputs": [
    {
     "data": {
      "text/plain": [
       "60"
      ]
     },
     "execution_count": 9,
     "metadata": {},
     "output_type": "execute_result"
    }
   ],
   "source": [
    "def linearsearch4(li):\n",
    "    sum=0\n",
    "    for x in range(len(li)):\n",
    "        if li[x]%3==0 and li[x]%5==0:\n",
    "            sum+=li[x]\n",
    "    return sum\n",
    "li=[12,2,45,9,18,15,36]\n",
    "linearsearch4(li)"
   ]
  },
  {
   "cell_type": "markdown",
   "metadata": {},
   "source": [
    "# 1.print first and last as it is because first number does not have previous and last does not have next number.\n"
   ]
  },
  {
   "cell_type": "markdown",
   "metadata": {},
   "source": [
    "# 2.need to multiply the previous and next number.\n"
   ]
  },
  {
   "cell_type": "code",
   "execution_count": 10,
   "metadata": {},
   "outputs": [
    {
     "name": "stdout",
     "output_type": "stream",
     "text": [
      "1  3  8  15  5  "
     ]
    }
   ],
   "source": [
    "# function\n",
    "\n",
    "def linearsearch5(li):\n",
    "    for x in range(len(li)):\n",
    "        if x==0 or x==len(li)-1:\n",
    "            print(li[x],end=\"  \")\n",
    "        else:\n",
    "            print(li[x-1]*li[x+1],end=\"  \")\n",
    "    return\n",
    "li=[1,2,3,4,5]\n",
    "linearsearch5(li)"
   ]
  },
  {
   "cell_type": "code",
   "execution_count": 3,
   "metadata": {},
   "outputs": [
    {
     "name": "stdout",
     "output_type": "stream",
     "text": [
      "1  9  19  22  "
     ]
    }
   ],
   "source": [
    "def linearsearch6(li):\n",
    "    for x in range(len(li)):\n",
    "        if x==0 or x==len(li)-1:\n",
    "            print(li[x],end=\"  \")\n",
    "        elif li[x-1]%2==0 and li[x+1]%2==0:\n",
    "            print(li[x],end=\"  \")\n",
    "    return\n",
    "li=[1,6,9,4,16,19,22]\n",
    "linearsearch6(li)"
   ]
  },
  {
   "cell_type": "markdown",
   "metadata": {},
   "source": [
    "### Number to List\n",
    ". Input as number\n",
    "\n",
    ". Expected output will be list"
   ]
  },
  {
   "cell_type": "code",
   "execution_count": 6,
   "metadata": {},
   "outputs": [
    {
     "data": {
      "text/plain": [
       "[1, 4, 5, 6, 9]"
      ]
     },
     "execution_count": 6,
     "metadata": {},
     "output_type": "execute_result"
    }
   ],
   "source": [
    "# function for converstion - Number to list\n",
    "\n",
    "def numberlistconversion(n):\n",
    "    li=[]\n",
    "    while n!=0:\n",
    "        r=n%10\n",
    "        li.append(r)\n",
    "        n=n//10\n",
    "    li.reverse()\n",
    "    return li\n",
    "numberlistconversion(14569)\n",
    "        "
   ]
  },
  {
   "cell_type": "code",
   "execution_count": 12,
   "metadata": {},
   "outputs": [
    {
     "data": {
      "text/plain": [
       "2"
      ]
     },
     "execution_count": 12,
     "metadata": {},
     "output_type": "execute_result"
    }
   ],
   "source": [
    "# function to count the occurances of a character in a string\n",
    "\n",
    "def countcharoccurances(s,c):\n",
    "    cnt=0\n",
    "    for ch in s:\n",
    "        if ch==c:\n",
    "            cnt+=1\n",
    "    return cnt\n",
    "def countcharoccurances1(s,c):\n",
    "    return s.count(c)\n",
    "countcharoccurances(\"Python Programming\",'m')"
   ]
  },
  {
   "cell_type": "markdown",
   "metadata": {},
   "source": [
    "# String to list conversion\n",
    "\n",
    ". input will be string\n",
    "\n",
    ". expected output will be list\n",
    "\n"
   ]
  },
  {
   "cell_type": "code",
   "execution_count": 16,
   "metadata": {},
   "outputs": [
    {
     "data": {
      "text/plain": [
       "[1, 2, 3, 4, 5, 6]"
      ]
     },
     "execution_count": 16,
     "metadata": {},
     "output_type": "execute_result"
    }
   ],
   "source": [
    "# function to convert the string to list\n",
    "\n",
    "def stringtolistconversion(s):\n",
    "    li=s.split()\n",
    "    numberslist=[]\n",
    "    for i in li:\n",
    "        numberslist.append(int(i))\n",
    "    return numberslist\n",
    "s=\"1 2 3 4 5 6\"\n",
    "stringtolistconversion(s)"
   ]
  },
  {
   "cell_type": "markdown",
   "metadata": {},
   "source": [
    "### sorting Algorithms:\n",
    " \n",
    ". All the sorting algorithms makes the list into ascending order\n",
    "\n",
    ". Bubble sort\n",
    "\n",
    ". Selection sort\n",
    "\n",
    ". Insertion sort"
   ]
  },
  {
   "cell_type": "markdown",
   "metadata": {},
   "source": [
    "### Bubble sort:\n",
    "\n",
    ". this algorithm compares the adj elements , if the first element is greater\n",
    "\n",
    ". than second element\n",
    "\n"
   ]
  },
  {
   "cell_type": "code",
   "execution_count": 20,
   "metadata": {},
   "outputs": [
    {
     "data": {
      "text/plain": [
       "[1, 3, 6, 18, 19, 25]"
      ]
     },
     "execution_count": 20,
     "metadata": {},
     "output_type": "execute_result"
    }
   ],
   "source": [
    "# function to represent the bubble sort\n",
    "\n",
    "def bubblesort(li):\n",
    "    for i in range(len(li)-1):\n",
    "        for j in range(len(li)-1):\n",
    "            if li[j]>li[j+1]:\n",
    "                li[j],li[j+1]=li[j+1],li[j]\n",
    "    return li\n",
    "li=[19,1,25,6,18,3]\n",
    "bubblesort(li)"
   ]
  },
  {
   "cell_type": "code",
   "execution_count": null,
   "metadata": {},
   "outputs": [],
   "source": []
  }
 ],
 "metadata": {
  "kernelspec": {
   "display_name": "Python 3",
   "language": "python",
   "name": "python3"
  },
  "language_info": {
   "codemirror_mode": {
    "name": "ipython",
    "version": 3
   },
   "file_extension": ".py",
   "mimetype": "text/x-python",
   "name": "python",
   "nbconvert_exporter": "python",
   "pygments_lexer": "ipython3",
   "version": "3.7.3"
  }
 },
 "nbformat": 4,
 "nbformat_minor": 2
}
